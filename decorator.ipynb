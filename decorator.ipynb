{
 "cells": [
  {
   "cell_type": "code",
   "execution_count": 3,
   "id": "713a843c",
   "metadata": {},
   "outputs": [
    {
     "name": "stdout",
     "output_type": "stream",
     "text": [
      "Hello world\n"
     ]
    },
    {
     "ename": "AttributeError",
     "evalue": "'NoneType' object has no attribute 'upper'",
     "output_type": "error",
     "traceback": [
      "\u001b[1;31m---------------------------------------------------------------------------\u001b[0m",
      "\u001b[1;31mAttributeError\u001b[0m                            Traceback (most recent call last)",
      "Input \u001b[1;32mIn [3]\u001b[0m, in \u001b[0;36m<cell line: 6>\u001b[1;34m()\u001b[0m\n\u001b[0;32m      4\u001b[0m \u001b[38;5;28;01mdef\u001b[39;00m \u001b[38;5;21mfun1\u001b[39m():\n\u001b[0;32m      5\u001b[0m     \u001b[38;5;28mprint\u001b[39m(\u001b[38;5;124m\"\u001b[39m\u001b[38;5;124mHello world\u001b[39m\u001b[38;5;124m\"\u001b[39m)\n\u001b[1;32m----> 6\u001b[0m disply\u001b[38;5;241m=\u001b[39m\u001b[43mupper\u001b[49m\u001b[43m(\u001b[49m\u001b[43mfun1\u001b[49m\u001b[43m)\u001b[49m\n\u001b[0;32m      7\u001b[0m \u001b[38;5;28mprint\u001b[39m(disply)\n",
      "Input \u001b[1;32mIn [3]\u001b[0m, in \u001b[0;36mupper\u001b[1;34m(func)\u001b[0m\n\u001b[0;32m      1\u001b[0m \u001b[38;5;28;01mdef\u001b[39;00m \u001b[38;5;21mupper\u001b[39m(func):\n\u001b[0;32m      2\u001b[0m     function\u001b[38;5;241m=\u001b[39mfunc()\n\u001b[1;32m----> 3\u001b[0m     \u001b[38;5;28;01mreturn\u001b[39;00m \u001b[43mfunction\u001b[49m\u001b[38;5;241;43m.\u001b[39;49m\u001b[43mupper\u001b[49m()\n",
      "\u001b[1;31mAttributeError\u001b[0m: 'NoneType' object has no attribute 'upper'"
     ]
    }
   ],
   "source": [
    "def upper(func):\n",
    "    function=func()\n",
    "    return function.upper()\n",
    "def fun1():\n",
    "    print(\"Hello world\")\n",
    "disply=upper(fun1)\n",
    "print(disply)"
   ]
  },
  {
   "cell_type": "code",
   "execution_count": 6,
   "id": "2b73b841",
   "metadata": {},
   "outputs": [
    {
     "ename": "AttributeError",
     "evalue": "'function' object has no attribute 'upper'",
     "output_type": "error",
     "traceback": [
      "\u001b[1;31m---------------------------------------------------------------------------\u001b[0m",
      "\u001b[1;31mAttributeError\u001b[0m                            Traceback (most recent call last)",
      "Input \u001b[1;32mIn [6]\u001b[0m, in \u001b[0;36m<cell line: 7>\u001b[1;34m()\u001b[0m\n\u001b[0;32m      5\u001b[0m \u001b[38;5;28;01mdef\u001b[39;00m \u001b[38;5;21mdisply\u001b[39m():\n\u001b[0;32m      6\u001b[0m     \u001b[38;5;28mprint\u001b[39m(\u001b[38;5;124m'\u001b[39m\u001b[38;5;124mhelloworld\u001b[39m\u001b[38;5;124m'\u001b[39m)\n\u001b[1;32m----> 7\u001b[0m cap\u001b[38;5;241m=\u001b[39m\u001b[43mget_upper\u001b[49m\u001b[43m(\u001b[49m\u001b[43mdisply\u001b[49m\u001b[43m)\u001b[49m\n\u001b[0;32m      8\u001b[0m \u001b[38;5;28mprint\u001b[39m(cap)\n",
      "Input \u001b[1;32mIn [6]\u001b[0m, in \u001b[0;36mget_upper\u001b[1;34m(fun)\u001b[0m\n\u001b[0;32m      1\u001b[0m \u001b[38;5;28;01mdef\u001b[39;00m \u001b[38;5;21mget_upper\u001b[39m(fun):\n\u001b[0;32m      2\u001b[0m     function\u001b[38;5;241m=\u001b[39mfun\n\u001b[1;32m----> 3\u001b[0m     \u001b[38;5;28;01mreturn\u001b[39;00m \u001b[43mfunction\u001b[49m\u001b[38;5;241;43m.\u001b[39;49m\u001b[43mupper\u001b[49m()\n",
      "\u001b[1;31mAttributeError\u001b[0m: 'function' object has no attribute 'upper'"
     ]
    }
   ],
   "source": [
    "def get_upper(fun):\n",
    "    function=fun\n",
    "    return function.upper()\n",
    "# get_upper(\"hello\")\n",
    "def disply():\n",
    "    print('helloworld')\n",
    "cap=get_upper(disply)\n",
    "print(cap)"
   ]
  },
  {
   "cell_type": "code",
   "execution_count": 11,
   "id": "6123c20b",
   "metadata": {},
   "outputs": [
    {
     "ename": "NameError",
     "evalue": "name 'fun' is not defined",
     "output_type": "error",
     "traceback": [
      "\u001b[1;31m---------------------------------------------------------------------------\u001b[0m",
      "\u001b[1;31mNameError\u001b[0m                                 Traceback (most recent call last)",
      "Input \u001b[1;32mIn [11]\u001b[0m, in \u001b[0;36m<cell line: 4>\u001b[1;34m()\u001b[0m\n\u001b[0;32m      2\u001b[0m     \u001b[38;5;28mprint\u001b[39m(\u001b[38;5;124m\"\u001b[39m\u001b[38;5;124mThis is outer method\u001b[39m\u001b[38;5;124m\"\u001b[39m)\n\u001b[0;32m      3\u001b[0m     fun()\n\u001b[1;32m----> 4\u001b[0m get_Outer_method(\u001b[43mfun\u001b[49m)\n",
      "\u001b[1;31mNameError\u001b[0m: name 'fun' is not defined"
     ]
    }
   ],
   "source": [
    "def get_Outer_method(fun):\n",
    "    print(\"This is outer method\")\n",
    "    fun()\n",
    "get_Outer_method(fun)"
   ]
  },
  {
   "cell_type": "code",
   "execution_count": 13,
   "id": "6a06d113",
   "metadata": {},
   "outputs": [
    {
     "name": "stdout",
     "output_type": "stream",
     "text": [
      "outer\n",
      "iner\n",
      "22\n"
     ]
    }
   ],
   "source": [
    "def get_outer(fun):\n",
    "    print(\"outer\")\n",
    "    fun()\n",
    "    def get_add(x,y):\n",
    "        add=x+y\n",
    "        return add\n",
    "    return get_add(10,12)\n",
    "def get_inner():\n",
    "    print(\"iner\")\n",
    "    \n",
    "var=get_outer(get_inner)\n",
    "print(var)"
   ]
  },
  {
   "cell_type": "code",
   "execution_count": null,
   "id": "34e15e6d",
   "metadata": {},
   "outputs": [],
   "source": []
  }
 ],
 "metadata": {
  "kernelspec": {
   "display_name": "Python 3 (ipykernel)",
   "language": "python",
   "name": "python3"
  },
  "language_info": {
   "codemirror_mode": {
    "name": "ipython",
    "version": 3
   },
   "file_extension": ".py",
   "mimetype": "text/x-python",
   "name": "python",
   "nbconvert_exporter": "python",
   "pygments_lexer": "ipython3",
   "version": "3.9.12"
  }
 },
 "nbformat": 4,
 "nbformat_minor": 5
}
